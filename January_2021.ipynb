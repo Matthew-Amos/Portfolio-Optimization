{
 "cells": [
  {
   "cell_type": "markdown",
   "metadata": {},
   "source": [
    "# Price Data API"
   ]
  },
  {
   "cell_type": "code",
   "execution_count": 1,
   "metadata": {},
   "outputs": [],
   "source": [
    "import pandas as pd\n",
    "import numpy as np\n",
    "import requests\n",
    "import re\n",
    "\n",
    "from datetime import date\n",
    "from io import StringIO"
   ]
  },
  {
   "cell_type": "code",
   "execution_count": 2,
   "metadata": {},
   "outputs": [],
   "source": [
    "def date_yf(dt):\n",
    "    return (dt - date(1969, 12, 31)).days * 86400\n",
    "\n",
    "def encode_yf(symbol, date_start, date_stop, interval):\n",
    "    period1 = date_yf(date_start)\n",
    "    period2 = date_yf(date_stop)\n",
    "    \n",
    "    return re.sub(r\"(\\n|\\t| )\", \"\", f\"\"\"\n",
    "    https://query1.finance.yahoo.com/v7/finance/download/{symbol}\n",
    "    ?period1={period1}\n",
    "    &period2={period2}\n",
    "    &interval={interval}\n",
    "    &events=history&includeAdjustedClose=true\n",
    "    \"\"\")\n",
    "\n",
    "def download_yf_prices(symbol, date_start, date_stop, interval):\n",
    "    uri = encode_yf(symbol, date_start, date_stop, interval)\n",
    "    resp = requests.get(uri)\n",
    "    \n",
    "    if resp.status_code != 200:\n",
    "        return None\n",
    "    \n",
    "    data = StringIO(resp.content.decode('utf-8'))\n",
    "    \n",
    "    return pd.read_csv(data, sep=\",\")"
   ]
  },
  {
   "cell_type": "markdown",
   "metadata": {},
   "source": [
    "_Usage_\n",
    "\n",
    "```python\n",
    "download_yf_prices(\"BND\", date(2000, 4, 9), date(2021, 1, 2), \"1wk\")\n",
    "```"
   ]
  },
  {
   "cell_type": "markdown",
   "metadata": {},
   "source": [
    "# Download"
   ]
  },
  {
   "cell_type": "code",
   "execution_count": 3,
   "metadata": {},
   "outputs": [
    {
     "data": {
      "text/html": [
       "<div>\n",
       "<style scoped>\n",
       "    .dataframe tbody tr th:only-of-type {\n",
       "        vertical-align: middle;\n",
       "    }\n",
       "\n",
       "    .dataframe tbody tr th {\n",
       "        vertical-align: top;\n",
       "    }\n",
       "\n",
       "    .dataframe thead th {\n",
       "        text-align: right;\n",
       "    }\n",
       "</style>\n",
       "<table border=\"1\" class=\"dataframe\">\n",
       "  <thead>\n",
       "    <tr style=\"text-align: right;\">\n",
       "      <th></th>\n",
       "      <th>Category</th>\n",
       "      <th>Name</th>\n",
       "      <th>Symbol</th>\n",
       "      <th>Class</th>\n",
       "      <th>ER</th>\n",
       "    </tr>\n",
       "  </thead>\n",
       "  <tbody>\n",
       "    <tr>\n",
       "      <th>0</th>\n",
       "      <td>Treasury/Agency</td>\n",
       "      <td>Extended Duration Treasury ETF</td>\n",
       "      <td>EDV</td>\n",
       "      <td>Bond - Long-term Government</td>\n",
       "      <td>0.07%</td>\n",
       "    </tr>\n",
       "    <tr>\n",
       "      <th>1</th>\n",
       "      <td>Treasury/Agency</td>\n",
       "      <td>Vanguard Select FundsIntermediate-Term Bond ETF</td>\n",
       "      <td>BIV</td>\n",
       "      <td>Bond - Inter-term Investment</td>\n",
       "      <td>0.05%</td>\n",
       "    </tr>\n",
       "    <tr>\n",
       "      <th>2</th>\n",
       "      <td>Treasury/Agency</td>\n",
       "      <td>Intermediate-Term Treasury ETF</td>\n",
       "      <td>VGIT</td>\n",
       "      <td>Bond - Inter-term Government</td>\n",
       "      <td>0.05%</td>\n",
       "    </tr>\n",
       "    <tr>\n",
       "      <th>3</th>\n",
       "      <td>Treasury/Agency</td>\n",
       "      <td>Vanguard Select FundsLong-Term Bond ETF</td>\n",
       "      <td>BLV</td>\n",
       "      <td>Bond - Long-term Investment</td>\n",
       "      <td>0.05%</td>\n",
       "    </tr>\n",
       "    <tr>\n",
       "      <th>4</th>\n",
       "      <td>Treasury/Agency</td>\n",
       "      <td>Long-Term Treasury ETF</td>\n",
       "      <td>VGLT</td>\n",
       "      <td>Bond - Long-term Government</td>\n",
       "      <td>0.05%</td>\n",
       "    </tr>\n",
       "  </tbody>\n",
       "</table>\n",
       "</div>"
      ],
      "text/plain": [
       "          Category                                             Name Symbol  \\\n",
       "0  Treasury/Agency                   Extended Duration Treasury ETF    EDV   \n",
       "1  Treasury/Agency  Vanguard Select FundsIntermediate-Term Bond ETF    BIV   \n",
       "2  Treasury/Agency                   Intermediate-Term Treasury ETF   VGIT   \n",
       "3  Treasury/Agency          Vanguard Select FundsLong-Term Bond ETF    BLV   \n",
       "4  Treasury/Agency                           Long-Term Treasury ETF   VGLT   \n",
       "\n",
       "                          Class     ER  \n",
       "0   Bond - Long-term Government  0.07%  \n",
       "1  Bond - Inter-term Investment  0.05%  \n",
       "2  Bond - Inter-term Government  0.05%  \n",
       "3   Bond - Long-term Investment  0.05%  \n",
       "4   Bond - Long-term Government  0.05%  "
      ]
     },
     "execution_count": 3,
     "metadata": {},
     "output_type": "execute_result"
    }
   ],
   "source": [
    "import os\n",
    "import time\n",
    "\n",
    "# Note that vanguard's \"CORE_ETFS\" = [\"BND\", \"BNDX\", \"VTI\", \"VXUS\"]\n",
    "DATE_START = date(1995, 1, 1)\n",
    "DATE_END   = date(2021, 1, 2)\n",
    "CACHE_DIR = os.path.join(\"prices\", \"Jan_1995_Jan_2021\")\n",
    "\n",
    "if not os.path.exists(CACHE_DIR):\n",
    "    os.mkdir(CACHE_DIR)\n",
    "\n",
    "vanguard = pd.read_csv(\"Vanguard_ETFs.csv\")\n",
    "vanguard.head(5)"
   ]
  },
  {
   "cell_type": "code",
   "execution_count": 4,
   "metadata": {},
   "outputs": [],
   "source": [
    "SYMBOLS = vanguard.Symbol.unique()\n",
    "\n",
    "# Append other funds\n",
    "SYMBOLS = np.append(SYMBOLS, np.array([\n",
    "    'GSY',     # Ultra short duration ETF\n",
    "    'BIL',     # 3 Mo Treasury\n",
    "    'SPHD',    # High dividend low volatility\n",
    "]))\n",
    "\n",
    "# Target date funds\n",
    "TARGET_DATE_FUNDS = np.array([\n",
    "    'VLXVX',   # 2065\n",
    "    'VTTSX',   # 2060\n",
    "    'VFFVX',   # 2055\n",
    "    'VFIFX',   # 2050\n",
    "    'VTIVX',   # 2045\n",
    "    'VFORX',   # 2040\n",
    "])\n",
    "\n",
    "SYMBOLS = np.append(SYMBOLS, TARGET_DATE_FUNDS)\n",
    "\n",
    "for symbol in SYMBOLS:\n",
    "    fpath = os.path.join(CACHE_DIR, f\"{symbol}.csv\")\n",
    "    if not os.path.exists(fpath):\n",
    "        prices = download_yf_prices(symbol, DATE_START, DATE_END, \"1wk\")\n",
    "        \n",
    "        if not prices is None:\n",
    "            prices.to_csv(fpath, index=False)\n",
    "            time.sleep(1)\n",
    "        else:\n",
    "            print(f\"{symbol} failed to download\")"
   ]
  },
  {
   "cell_type": "markdown",
   "metadata": {},
   "source": [
    "# Read"
   ]
  },
  {
   "cell_type": "code",
   "execution_count": 5,
   "metadata": {},
   "outputs": [],
   "source": [
    "from dateutil import parser"
   ]
  },
  {
   "cell_type": "markdown",
   "metadata": {},
   "source": [
    "## Price Vector"
   ]
  },
  {
   "cell_type": "code",
   "execution_count": 6,
   "metadata": {},
   "outputs": [
    {
     "data": {
      "text/html": [
       "<div>\n",
       "<style scoped>\n",
       "    .dataframe tbody tr th:only-of-type {\n",
       "        vertical-align: middle;\n",
       "    }\n",
       "\n",
       "    .dataframe tbody tr th {\n",
       "        vertical-align: top;\n",
       "    }\n",
       "\n",
       "    .dataframe thead th {\n",
       "        text-align: right;\n",
       "    }\n",
       "</style>\n",
       "<table border=\"1\" class=\"dataframe\">\n",
       "  <thead>\n",
       "    <tr style=\"text-align: right;\">\n",
       "      <th></th>\n",
       "      <th>Date</th>\n",
       "      <th>Adj Close</th>\n",
       "      <th>Symbol</th>\n",
       "    </tr>\n",
       "  </thead>\n",
       "  <tbody>\n",
       "    <tr>\n",
       "      <th>0</th>\n",
       "      <td>2010-09-20</td>\n",
       "      <td>46.145058</td>\n",
       "      <td>VONG</td>\n",
       "    </tr>\n",
       "    <tr>\n",
       "      <th>1</th>\n",
       "      <td>2010-09-27</td>\n",
       "      <td>45.987106</td>\n",
       "      <td>VONG</td>\n",
       "    </tr>\n",
       "    <tr>\n",
       "      <th>2</th>\n",
       "      <td>2010-10-04</td>\n",
       "      <td>46.899662</td>\n",
       "      <td>VONG</td>\n",
       "    </tr>\n",
       "    <tr>\n",
       "      <th>3</th>\n",
       "      <td>2010-10-11</td>\n",
       "      <td>47.847294</td>\n",
       "      <td>VONG</td>\n",
       "    </tr>\n",
       "    <tr>\n",
       "      <th>4</th>\n",
       "      <td>2010-10-18</td>\n",
       "      <td>48.101757</td>\n",
       "      <td>VONG</td>\n",
       "    </tr>\n",
       "  </tbody>\n",
       "</table>\n",
       "</div>"
      ],
      "text/plain": [
       "        Date  Adj Close Symbol\n",
       "0 2010-09-20  46.145058   VONG\n",
       "1 2010-09-27  45.987106   VONG\n",
       "2 2010-10-04  46.899662   VONG\n",
       "3 2010-10-11  47.847294   VONG\n",
       "4 2010-10-18  48.101757   VONG"
      ]
     },
     "execution_count": 6,
     "metadata": {},
     "output_type": "execute_result"
    }
   ],
   "source": [
    "price_vec = pd.DataFrame()\n",
    "for f in os.listdir(CACHE_DIR):\n",
    "    if os.path.isfile(os.path.join(CACHE_DIR, f)):\n",
    "        temp = pd.read_csv(os.path.join(CACHE_DIR, f))\n",
    "        temp = temp[['Date', 'Adj Close']].copy()\n",
    "        temp['Symbol'] = os.path.splitext(f)[0]\n",
    "        price_vec = pd.concat((price_vec, temp))\n",
    "price_vec['Date'] = [parser.parse(x) for x in price_vec.Date]\n",
    "price_vec.head()"
   ]
  },
  {
   "cell_type": "markdown",
   "metadata": {},
   "source": [
    "## Assign _Date_ a Week Index"
   ]
  },
  {
   "cell_type": "code",
   "execution_count": 7,
   "metadata": {},
   "outputs": [
    {
     "data": {
      "text/html": [
       "<div>\n",
       "<style scoped>\n",
       "    .dataframe tbody tr th:only-of-type {\n",
       "        vertical-align: middle;\n",
       "    }\n",
       "\n",
       "    .dataframe tbody tr th {\n",
       "        vertical-align: top;\n",
       "    }\n",
       "\n",
       "    .dataframe thead th {\n",
       "        text-align: right;\n",
       "    }\n",
       "</style>\n",
       "<table border=\"1\" class=\"dataframe\">\n",
       "  <thead>\n",
       "    <tr style=\"text-align: right;\">\n",
       "      <th></th>\n",
       "      <th>Date</th>\n",
       "      <th>Adj Close</th>\n",
       "      <th>Symbol</th>\n",
       "      <th>Week_Idx</th>\n",
       "    </tr>\n",
       "  </thead>\n",
       "  <tbody>\n",
       "    <tr>\n",
       "      <th>0</th>\n",
       "      <td>2010-09-20</td>\n",
       "      <td>46.145058</td>\n",
       "      <td>VONG</td>\n",
       "      <td>484</td>\n",
       "    </tr>\n",
       "    <tr>\n",
       "      <th>1</th>\n",
       "      <td>2010-09-20</td>\n",
       "      <td>15.752836</td>\n",
       "      <td>VFORX</td>\n",
       "      <td>484</td>\n",
       "    </tr>\n",
       "    <tr>\n",
       "      <th>2</th>\n",
       "      <td>2010-09-20</td>\n",
       "      <td>33.291584</td>\n",
       "      <td>VGK</td>\n",
       "      <td>484</td>\n",
       "    </tr>\n",
       "    <tr>\n",
       "      <th>3</th>\n",
       "      <td>2010-09-20</td>\n",
       "      <td>33.883999</td>\n",
       "      <td>VWO</td>\n",
       "      <td>484</td>\n",
       "    </tr>\n",
       "    <tr>\n",
       "      <th>4</th>\n",
       "      <td>2010-09-20</td>\n",
       "      <td>27.021132</td>\n",
       "      <td>MGV</td>\n",
       "      <td>484</td>\n",
       "    </tr>\n",
       "  </tbody>\n",
       "</table>\n",
       "</div>"
      ],
      "text/plain": [
       "        Date  Adj Close Symbol  Week_Idx\n",
       "0 2010-09-20  46.145058   VONG       484\n",
       "1 2010-09-20  15.752836  VFORX       484\n",
       "2 2010-09-20  33.291584    VGK       484\n",
       "3 2010-09-20  33.883999    VWO       484\n",
       "4 2010-09-20  27.021132    MGV       484"
      ]
     },
     "execution_count": 7,
     "metadata": {},
     "output_type": "execute_result"
    }
   ],
   "source": [
    "weekly_dates = price_vec.Date.unique()\n",
    "weekly_dates.sort()\n",
    "weekly_index = [0]\n",
    "\n",
    "prior_date = weekly_dates[0]\n",
    "index = 0\n",
    "\n",
    "for i in range(1, len(weekly_dates)):\n",
    "    dt = (weekly_dates[i] - prior_date).astype('timedelta64[D]')/np.timedelta64(1, 'D')\n",
    "    if dt >= 5:\n",
    "        index += 1\n",
    "        prior_date = weekly_dates[i]\n",
    "    weekly_index.append(index)\n",
    "    \n",
    "week_idx = pd.DataFrame({'Date': weekly_dates, 'Week_Idx': weekly_index})\n",
    "price_vec = price_vec.merge(week_idx, on='Date')\n",
    "price_vec.head()"
   ]
  },
  {
   "cell_type": "markdown",
   "metadata": {},
   "source": [
    "## Read in Monthly 3-Mo T Bill Rates"
   ]
  },
  {
   "cell_type": "code",
   "execution_count": 8,
   "metadata": {},
   "outputs": [
    {
     "data": {
      "text/html": [
       "<div>\n",
       "<style scoped>\n",
       "    .dataframe tbody tr th:only-of-type {\n",
       "        vertical-align: middle;\n",
       "    }\n",
       "\n",
       "    .dataframe tbody tr th {\n",
       "        vertical-align: top;\n",
       "    }\n",
       "\n",
       "    .dataframe thead th {\n",
       "        text-align: right;\n",
       "    }\n",
       "</style>\n",
       "<table border=\"1\" class=\"dataframe\">\n",
       "  <thead>\n",
       "    <tr style=\"text-align: right;\">\n",
       "      <th></th>\n",
       "      <th>YYYY_MM</th>\n",
       "      <th>RFR</th>\n",
       "    </tr>\n",
       "  </thead>\n",
       "  <tbody>\n",
       "    <tr>\n",
       "      <th>0</th>\n",
       "      <td>1995-01</td>\n",
       "      <td>0.001068</td>\n",
       "    </tr>\n",
       "    <tr>\n",
       "      <th>1</th>\n",
       "      <td>1995-02</td>\n",
       "      <td>0.001079</td>\n",
       "    </tr>\n",
       "    <tr>\n",
       "      <th>2</th>\n",
       "      <td>1995-03</td>\n",
       "      <td>0.001072</td>\n",
       "    </tr>\n",
       "    <tr>\n",
       "      <th>3</th>\n",
       "      <td>1995-04</td>\n",
       "      <td>0.001058</td>\n",
       "    </tr>\n",
       "    <tr>\n",
       "      <th>4</th>\n",
       "      <td>1995-05</td>\n",
       "      <td>0.001061</td>\n",
       "    </tr>\n",
       "  </tbody>\n",
       "</table>\n",
       "</div>"
      ],
      "text/plain": [
       "   YYYY_MM       RFR\n",
       "0  1995-01  0.001068\n",
       "1  1995-02  0.001079\n",
       "2  1995-03  0.001072\n",
       "3  1995-04  0.001058\n",
       "4  1995-05  0.001061"
      ]
     },
     "execution_count": 8,
     "metadata": {},
     "output_type": "execute_result"
    }
   ],
   "source": [
    "# 3 month t bills\n",
    "tbill = pd.read_csv(os.path.join(\"prices\", \"RFR.csv\"))\n",
    "tbill['DATE'] = tbill.DATE.apply(parser.parse)\n",
    "tbill['YYYY_MM'] = tbill.DATE.apply(lambda d: f\"{np.datetime64(d).astype('datetime64[M]').astype(str)}\")\n",
    "tbill['TB3MS'] = [0.0 if x == '.' else float(x) for x in tbill.TB3MS]\n",
    "tbill['RFR'] = tbill.TB3MS.apply(lambda x: (1+x/100) ** (1/52) - 1)\n",
    "tbill.drop(columns=['TB3MS'], inplace=True)\n",
    "tbill = tbill.groupby('YYYY_MM').aggregate({'RFR': 'mean'}).reset_index()\n",
    "tbill.head()"
   ]
  },
  {
   "cell_type": "markdown",
   "metadata": {},
   "source": [
    "## Weekly Index to Risk-Free Rate Lookup"
   ]
  },
  {
   "cell_type": "code",
   "execution_count": 9,
   "metadata": {},
   "outputs": [
    {
     "data": {
      "text/html": [
       "<div>\n",
       "<style scoped>\n",
       "    .dataframe tbody tr th:only-of-type {\n",
       "        vertical-align: middle;\n",
       "    }\n",
       "\n",
       "    .dataframe tbody tr th {\n",
       "        vertical-align: top;\n",
       "    }\n",
       "\n",
       "    .dataframe thead th {\n",
       "        text-align: right;\n",
       "    }\n",
       "</style>\n",
       "<table border=\"1\" class=\"dataframe\">\n",
       "  <thead>\n",
       "    <tr style=\"text-align: right;\">\n",
       "      <th></th>\n",
       "      <th>Week_Idx</th>\n",
       "      <th>RFR</th>\n",
       "    </tr>\n",
       "  </thead>\n",
       "  <tbody>\n",
       "    <tr>\n",
       "      <th>0</th>\n",
       "      <td>0</td>\n",
       "      <td>0.000660</td>\n",
       "    </tr>\n",
       "    <tr>\n",
       "      <th>1</th>\n",
       "      <td>1</td>\n",
       "      <td>0.000660</td>\n",
       "    </tr>\n",
       "    <tr>\n",
       "      <th>2</th>\n",
       "      <td>2</td>\n",
       "      <td>0.000660</td>\n",
       "    </tr>\n",
       "    <tr>\n",
       "      <th>3</th>\n",
       "      <td>3</td>\n",
       "      <td>0.000664</td>\n",
       "    </tr>\n",
       "    <tr>\n",
       "      <th>4</th>\n",
       "      <td>4</td>\n",
       "      <td>0.000664</td>\n",
       "    </tr>\n",
       "  </tbody>\n",
       "</table>\n",
       "</div>"
      ],
      "text/plain": [
       "   Week_Idx       RFR\n",
       "0         0  0.000660\n",
       "1         1  0.000660\n",
       "2         2  0.000660\n",
       "3         3  0.000664\n",
       "4         4  0.000664"
      ]
     },
     "execution_count": 9,
     "metadata": {},
     "output_type": "execute_result"
    }
   ],
   "source": [
    "weekly_yyyy_mm = [f\"{d.astype('datetime64[M]').astype(str)}\" for d in weekly_dates]\n",
    "weekly_idx_rfr = pd.DataFrame({'Week_Idx': weekly_index, 'YYYY_MM': weekly_yyyy_mm})\n",
    "weekly_idx_rfr = weekly_idx_rfr.merge(tbill[['YYYY_MM', 'RFR']], on='YYYY_MM', how='inner')\n",
    "weekly_idx_rfr.drop(columns=['YYYY_MM'], inplace=True)\n",
    "weekly_idx_rfr = weekly_idx_rfr.groupby('Week_Idx').aggregate({'RFR': 'mean'}).reset_index()\n",
    "weekly_idx_rfr.head()"
   ]
  },
  {
   "cell_type": "code",
   "execution_count": 10,
   "metadata": {},
   "outputs": [
    {
     "data": {
      "text/html": [
       "<div>\n",
       "<style scoped>\n",
       "    .dataframe tbody tr th:only-of-type {\n",
       "        vertical-align: middle;\n",
       "    }\n",
       "\n",
       "    .dataframe tbody tr th {\n",
       "        vertical-align: top;\n",
       "    }\n",
       "\n",
       "    .dataframe thead th {\n",
       "        text-align: right;\n",
       "    }\n",
       "</style>\n",
       "<table border=\"1\" class=\"dataframe\">\n",
       "  <thead>\n",
       "    <tr style=\"text-align: right;\">\n",
       "      <th></th>\n",
       "      <th>Week_Idx</th>\n",
       "      <th>RFR</th>\n",
       "    </tr>\n",
       "  </thead>\n",
       "  <tbody>\n",
       "    <tr>\n",
       "      <th>1012</th>\n",
       "      <td>1012</td>\n",
       "      <td>0.000017</td>\n",
       "    </tr>\n",
       "    <tr>\n",
       "      <th>1013</th>\n",
       "      <td>1013</td>\n",
       "      <td>0.000017</td>\n",
       "    </tr>\n",
       "    <tr>\n",
       "      <th>1014</th>\n",
       "      <td>1014</td>\n",
       "      <td>0.000017</td>\n",
       "    </tr>\n",
       "    <tr>\n",
       "      <th>1015</th>\n",
       "      <td>1015</td>\n",
       "      <td>0.000017</td>\n",
       "    </tr>\n",
       "    <tr>\n",
       "      <th>1016</th>\n",
       "      <td>1016</td>\n",
       "      <td>0.000017</td>\n",
       "    </tr>\n",
       "  </tbody>\n",
       "</table>\n",
       "</div>"
      ],
      "text/plain": [
       "      Week_Idx       RFR\n",
       "1012      1012  0.000017\n",
       "1013      1013  0.000017\n",
       "1014      1014  0.000017\n",
       "1015      1015  0.000017\n",
       "1016      1016  0.000017"
      ]
     },
     "execution_count": 10,
     "metadata": {},
     "output_type": "execute_result"
    }
   ],
   "source": [
    "weekly_idx_rfr.tail()"
   ]
  },
  {
   "cell_type": "markdown",
   "metadata": {},
   "source": [
    "## Convert Price Vector to Matrix"
   ]
  },
  {
   "cell_type": "code",
   "execution_count": 11,
   "metadata": {},
   "outputs": [
    {
     "name": "stdout",
     "output_type": "stream",
     "text": [
      "53301 to 53226\n"
     ]
    }
   ],
   "source": [
    "price_vec_agg = price_vec.groupby(['Week_Idx', 'Symbol']).aggregate({'Adj Close': 'mean'}).reset_index()\n",
    "print(f\"{price_vec.shape[0]} to {price_vec_agg.shape[0]}\")"
   ]
  },
  {
   "cell_type": "code",
   "execution_count": 12,
   "metadata": {},
   "outputs": [
    {
     "data": {
      "text/html": [
       "<div>\n",
       "<style scoped>\n",
       "    .dataframe tbody tr th:only-of-type {\n",
       "        vertical-align: middle;\n",
       "    }\n",
       "\n",
       "    .dataframe tbody tr th {\n",
       "        vertical-align: top;\n",
       "    }\n",
       "\n",
       "    .dataframe thead th {\n",
       "        text-align: right;\n",
       "    }\n",
       "</style>\n",
       "<table border=\"1\" class=\"dataframe\">\n",
       "  <thead>\n",
       "    <tr style=\"text-align: right;\">\n",
       "      <th>Symbol</th>\n",
       "      <th>BIL</th>\n",
       "      <th>BIV</th>\n",
       "      <th>BLV</th>\n",
       "      <th>BND</th>\n",
       "      <th>BNDW</th>\n",
       "      <th>BNDX</th>\n",
       "      <th>BSV</th>\n",
       "      <th>EDV</th>\n",
       "      <th>ESGV</th>\n",
       "      <th>GSY</th>\n",
       "      <th>...</th>\n",
       "      <th>VTWO</th>\n",
       "      <th>VTWV</th>\n",
       "      <th>VUG</th>\n",
       "      <th>VV</th>\n",
       "      <th>VWO</th>\n",
       "      <th>VWOB</th>\n",
       "      <th>VXF</th>\n",
       "      <th>VXUS</th>\n",
       "      <th>VYM</th>\n",
       "      <th>VYMI</th>\n",
       "    </tr>\n",
       "    <tr>\n",
       "      <th>Week_Idx</th>\n",
       "      <th></th>\n",
       "      <th></th>\n",
       "      <th></th>\n",
       "      <th></th>\n",
       "      <th></th>\n",
       "      <th></th>\n",
       "      <th></th>\n",
       "      <th></th>\n",
       "      <th></th>\n",
       "      <th></th>\n",
       "      <th></th>\n",
       "      <th></th>\n",
       "      <th></th>\n",
       "      <th></th>\n",
       "      <th></th>\n",
       "      <th></th>\n",
       "      <th></th>\n",
       "      <th></th>\n",
       "      <th></th>\n",
       "      <th></th>\n",
       "      <th></th>\n",
       "    </tr>\n",
       "  </thead>\n",
       "  <tbody>\n",
       "    <tr>\n",
       "      <th>1011</th>\n",
       "      <td>91.527000</td>\n",
       "      <td>91.579056</td>\n",
       "      <td>105.948631</td>\n",
       "      <td>86.999901</td>\n",
       "      <td>81.285767</td>\n",
       "      <td>58.113106</td>\n",
       "      <td>82.519585</td>\n",
       "      <td>151.393082</td>\n",
       "      <td>60.332767</td>\n",
       "      <td>50.454102</td>\n",
       "      <td>...</td>\n",
       "      <td>123.135170</td>\n",
       "      <td>89.730453</td>\n",
       "      <td>220.363846</td>\n",
       "      <td>151.939377</td>\n",
       "      <td>43.546425</td>\n",
       "      <td>77.523018</td>\n",
       "      <td>131.334930</td>\n",
       "      <td>50.471123</td>\n",
       "      <td>78.836342</td>\n",
       "      <td>50.174061</td>\n",
       "    </tr>\n",
       "    <tr>\n",
       "      <th>1012</th>\n",
       "      <td>91.516998</td>\n",
       "      <td>92.043427</td>\n",
       "      <td>108.077469</td>\n",
       "      <td>87.436966</td>\n",
       "      <td>81.614578</td>\n",
       "      <td>58.192795</td>\n",
       "      <td>82.499664</td>\n",
       "      <td>154.210373</td>\n",
       "      <td>65.036613</td>\n",
       "      <td>50.484058</td>\n",
       "      <td>...</td>\n",
       "      <td>131.498856</td>\n",
       "      <td>94.149452</td>\n",
       "      <td>240.217255</td>\n",
       "      <td>163.214798</td>\n",
       "      <td>46.588013</td>\n",
       "      <td>79.146744</td>\n",
       "      <td>141.197250</td>\n",
       "      <td>54.293343</td>\n",
       "      <td>82.563080</td>\n",
       "      <td>53.432503</td>\n",
       "    </tr>\n",
       "    <tr>\n",
       "      <th>1013</th>\n",
       "      <td>91.527000</td>\n",
       "      <td>92.076904</td>\n",
       "      <td>107.755707</td>\n",
       "      <td>87.388969</td>\n",
       "      <td>81.546143</td>\n",
       "      <td>58.110115</td>\n",
       "      <td>82.576447</td>\n",
       "      <td>152.643066</td>\n",
       "      <td>65.853806</td>\n",
       "      <td>50.494045</td>\n",
       "      <td>...</td>\n",
       "      <td>139.533951</td>\n",
       "      <td>102.709396</td>\n",
       "      <td>237.751785</td>\n",
       "      <td>166.043625</td>\n",
       "      <td>46.846451</td>\n",
       "      <td>80.272964</td>\n",
       "      <td>145.834808</td>\n",
       "      <td>56.016312</td>\n",
       "      <td>87.062904</td>\n",
       "      <td>56.492863</td>\n",
       "    </tr>\n",
       "    <tr>\n",
       "      <th>1014</th>\n",
       "      <td>91.527000</td>\n",
       "      <td>92.482704</td>\n",
       "      <td>110.083679</td>\n",
       "      <td>87.946220</td>\n",
       "      <td>81.925247</td>\n",
       "      <td>58.339405</td>\n",
       "      <td>82.636292</td>\n",
       "      <td>156.969955</td>\n",
       "      <td>65.644524</td>\n",
       "      <td>50.504032</td>\n",
       "      <td>...</td>\n",
       "      <td>142.620544</td>\n",
       "      <td>105.400513</td>\n",
       "      <td>236.923309</td>\n",
       "      <td>165.575470</td>\n",
       "      <td>47.611816</td>\n",
       "      <td>80.451782</td>\n",
       "      <td>151.169022</td>\n",
       "      <td>56.957012</td>\n",
       "      <td>87.072823</td>\n",
       "      <td>57.651638</td>\n",
       "    </tr>\n",
       "    <tr>\n",
       "      <th>1015</th>\n",
       "      <td>91.527000</td>\n",
       "      <td>92.591576</td>\n",
       "      <td>109.967293</td>\n",
       "      <td>87.936272</td>\n",
       "      <td>81.945190</td>\n",
       "      <td>58.369312</td>\n",
       "      <td>82.686172</td>\n",
       "      <td>155.114212</td>\n",
       "      <td>67.398491</td>\n",
       "      <td>50.484058</td>\n",
       "      <td>...</td>\n",
       "      <td>148.246109</td>\n",
       "      <td>109.958542</td>\n",
       "      <td>242.962189</td>\n",
       "      <td>169.818710</td>\n",
       "      <td>48.466640</td>\n",
       "      <td>80.670341</td>\n",
       "      <td>153.358444</td>\n",
       "      <td>58.105659</td>\n",
       "      <td>89.540794</td>\n",
       "      <td>59.087730</td>\n",
       "    </tr>\n",
       "    <tr>\n",
       "      <th>1016</th>\n",
       "      <td>91.527000</td>\n",
       "      <td>92.076904</td>\n",
       "      <td>107.775116</td>\n",
       "      <td>87.438721</td>\n",
       "      <td>81.615974</td>\n",
       "      <td>58.209805</td>\n",
       "      <td>82.596397</td>\n",
       "      <td>149.085403</td>\n",
       "      <td>68.564491</td>\n",
       "      <td>50.529007</td>\n",
       "      <td>...</td>\n",
       "      <td>151.432266</td>\n",
       "      <td>112.838333</td>\n",
       "      <td>246.545578</td>\n",
       "      <td>172.767044</td>\n",
       "      <td>49.043152</td>\n",
       "      <td>80.888908</td>\n",
       "      <td>158.881714</td>\n",
       "      <td>58.967144</td>\n",
       "      <td>91.255493</td>\n",
       "      <td>60.167274</td>\n",
       "    </tr>\n",
       "    <tr>\n",
       "      <th>1017</th>\n",
       "      <td>91.519997</td>\n",
       "      <td>92.535942</td>\n",
       "      <td>109.347443</td>\n",
       "      <td>87.899200</td>\n",
       "      <td>82.110947</td>\n",
       "      <td>58.613766</td>\n",
       "      <td>82.798012</td>\n",
       "      <td>153.633453</td>\n",
       "      <td>68.026344</td>\n",
       "      <td>50.539001</td>\n",
       "      <td>...</td>\n",
       "      <td>153.045273</td>\n",
       "      <td>112.659584</td>\n",
       "      <td>244.159973</td>\n",
       "      <td>171.253021</td>\n",
       "      <td>48.933815</td>\n",
       "      <td>81.339371</td>\n",
       "      <td>159.847046</td>\n",
       "      <td>58.719589</td>\n",
       "      <td>90.690529</td>\n",
       "      <td>60.028618</td>\n",
       "    </tr>\n",
       "    <tr>\n",
       "      <th>1018</th>\n",
       "      <td>91.519997</td>\n",
       "      <td>92.555779</td>\n",
       "      <td>108.764153</td>\n",
       "      <td>87.809494</td>\n",
       "      <td>81.931168</td>\n",
       "      <td>58.414230</td>\n",
       "      <td>82.808006</td>\n",
       "      <td>150.873856</td>\n",
       "      <td>69.192337</td>\n",
       "      <td>50.539001</td>\n",
       "      <td>...</td>\n",
       "      <td>156.609772</td>\n",
       "      <td>113.493736</td>\n",
       "      <td>251.117157</td>\n",
       "      <td>173.992188</td>\n",
       "      <td>49.729000</td>\n",
       "      <td>81.807869</td>\n",
       "      <td>165.479813</td>\n",
       "      <td>59.689999</td>\n",
       "      <td>90.750000</td>\n",
       "      <td>60.711998</td>\n",
       "    </tr>\n",
       "    <tr>\n",
       "      <th>1019</th>\n",
       "      <td>91.519997</td>\n",
       "      <td>91.911369</td>\n",
       "      <td>106.275444</td>\n",
       "      <td>87.719795</td>\n",
       "      <td>81.961128</td>\n",
       "      <td>58.324440</td>\n",
       "      <td>82.758064</td>\n",
       "      <td>146.229660</td>\n",
       "      <td>69.580002</td>\n",
       "      <td>50.519016</td>\n",
       "      <td>...</td>\n",
       "      <td>160.639999</td>\n",
       "      <td>115.680000</td>\n",
       "      <td>250.787766</td>\n",
       "      <td>173.235184</td>\n",
       "      <td>48.625679</td>\n",
       "      <td>81.807869</td>\n",
       "      <td>164.733429</td>\n",
       "      <td>58.779003</td>\n",
       "      <td>89.580437</td>\n",
       "      <td>59.830536</td>\n",
       "    </tr>\n",
       "    <tr>\n",
       "      <th>1020</th>\n",
       "      <td>91.519997</td>\n",
       "      <td>92.849998</td>\n",
       "      <td>109.639999</td>\n",
       "      <td>88.190002</td>\n",
       "      <td>82.199997</td>\n",
       "      <td>58.549999</td>\n",
       "      <td>82.900002</td>\n",
       "      <td>152.300003</td>\n",
       "      <td>70.169998</td>\n",
       "      <td>50.580002</td>\n",
       "      <td>...</td>\n",
       "      <td>158.270004</td>\n",
       "      <td>115.515000</td>\n",
       "      <td>253.339996</td>\n",
       "      <td>175.740005</td>\n",
       "      <td>50.110001</td>\n",
       "      <td>82.300003</td>\n",
       "      <td>164.679993</td>\n",
       "      <td>60.160000</td>\n",
       "      <td>91.510002</td>\n",
       "      <td>60.779999</td>\n",
       "    </tr>\n",
       "  </tbody>\n",
       "</table>\n",
       "<p>10 rows × 84 columns</p>\n",
       "</div>"
      ],
      "text/plain": [
       "Symbol          BIL        BIV         BLV        BND       BNDW       BNDX  \\\n",
       "Week_Idx                                                                      \n",
       "1011      91.527000  91.579056  105.948631  86.999901  81.285767  58.113106   \n",
       "1012      91.516998  92.043427  108.077469  87.436966  81.614578  58.192795   \n",
       "1013      91.527000  92.076904  107.755707  87.388969  81.546143  58.110115   \n",
       "1014      91.527000  92.482704  110.083679  87.946220  81.925247  58.339405   \n",
       "1015      91.527000  92.591576  109.967293  87.936272  81.945190  58.369312   \n",
       "1016      91.527000  92.076904  107.775116  87.438721  81.615974  58.209805   \n",
       "1017      91.519997  92.535942  109.347443  87.899200  82.110947  58.613766   \n",
       "1018      91.519997  92.555779  108.764153  87.809494  81.931168  58.414230   \n",
       "1019      91.519997  91.911369  106.275444  87.719795  81.961128  58.324440   \n",
       "1020      91.519997  92.849998  109.639999  88.190002  82.199997  58.549999   \n",
       "\n",
       "Symbol          BSV         EDV       ESGV        GSY  ...        VTWO  \\\n",
       "Week_Idx                                               ...               \n",
       "1011      82.519585  151.393082  60.332767  50.454102  ...  123.135170   \n",
       "1012      82.499664  154.210373  65.036613  50.484058  ...  131.498856   \n",
       "1013      82.576447  152.643066  65.853806  50.494045  ...  139.533951   \n",
       "1014      82.636292  156.969955  65.644524  50.504032  ...  142.620544   \n",
       "1015      82.686172  155.114212  67.398491  50.484058  ...  148.246109   \n",
       "1016      82.596397  149.085403  68.564491  50.529007  ...  151.432266   \n",
       "1017      82.798012  153.633453  68.026344  50.539001  ...  153.045273   \n",
       "1018      82.808006  150.873856  69.192337  50.539001  ...  156.609772   \n",
       "1019      82.758064  146.229660  69.580002  50.519016  ...  160.639999   \n",
       "1020      82.900002  152.300003  70.169998  50.580002  ...  158.270004   \n",
       "\n",
       "Symbol          VTWV         VUG          VV        VWO       VWOB  \\\n",
       "Week_Idx                                                             \n",
       "1011       89.730453  220.363846  151.939377  43.546425  77.523018   \n",
       "1012       94.149452  240.217255  163.214798  46.588013  79.146744   \n",
       "1013      102.709396  237.751785  166.043625  46.846451  80.272964   \n",
       "1014      105.400513  236.923309  165.575470  47.611816  80.451782   \n",
       "1015      109.958542  242.962189  169.818710  48.466640  80.670341   \n",
       "1016      112.838333  246.545578  172.767044  49.043152  80.888908   \n",
       "1017      112.659584  244.159973  171.253021  48.933815  81.339371   \n",
       "1018      113.493736  251.117157  173.992188  49.729000  81.807869   \n",
       "1019      115.680000  250.787766  173.235184  48.625679  81.807869   \n",
       "1020      115.515000  253.339996  175.740005  50.110001  82.300003   \n",
       "\n",
       "Symbol           VXF       VXUS        VYM       VYMI  \n",
       "Week_Idx                                               \n",
       "1011      131.334930  50.471123  78.836342  50.174061  \n",
       "1012      141.197250  54.293343  82.563080  53.432503  \n",
       "1013      145.834808  56.016312  87.062904  56.492863  \n",
       "1014      151.169022  56.957012  87.072823  57.651638  \n",
       "1015      153.358444  58.105659  89.540794  59.087730  \n",
       "1016      158.881714  58.967144  91.255493  60.167274  \n",
       "1017      159.847046  58.719589  90.690529  60.028618  \n",
       "1018      165.479813  59.689999  90.750000  60.711998  \n",
       "1019      164.733429  58.779003  89.580437  59.830536  \n",
       "1020      164.679993  60.160000  91.510002  60.779999  \n",
       "\n",
       "[10 rows x 84 columns]"
      ]
     },
     "execution_count": 12,
     "metadata": {},
     "output_type": "execute_result"
    }
   ],
   "source": [
    "price_mat = price_vec_agg.pivot(index='Week_Idx', columns='Symbol', values='Adj Close')\n",
    "price_mat.tail(10)"
   ]
  },
  {
   "cell_type": "code",
   "execution_count": 13,
   "metadata": {},
   "outputs": [
    {
     "data": {
      "text/plain": [
       "Symbol\n",
       "BIL     710\n",
       "BIV     717\n",
       "BLV     717\n",
       "BND     717\n",
       "BNDW    122\n",
       "       ... \n",
       "VWOB    396\n",
       "VXF     992\n",
       "VXUS    519\n",
       "VYM     738\n",
       "VYMI    253\n",
       "Length: 84, dtype: int64"
      ]
     },
     "execution_count": 13,
     "metadata": {},
     "output_type": "execute_result"
    }
   ],
   "source": [
    "available_weeks = price_mat.shape[0] - price_mat.applymap(lambda x: pd.isna(x)).sum()\n",
    "available_weeks"
   ]
  },
  {
   "cell_type": "markdown",
   "metadata": {},
   "source": [
    "# Analysis"
   ]
  },
  {
   "cell_type": "markdown",
   "metadata": {},
   "source": [
    "## Setup\n",
    "\n",
    "---"
   ]
  },
  {
   "cell_type": "code",
   "execution_count": 14,
   "metadata": {},
   "outputs": [],
   "source": [
    "from jax import grad, jit\n",
    "import jax.numpy as jnp\n",
    "import matplotlib.pyplot as plt\n",
    "\n",
    "%matplotlib inline\n",
    "plt.rcParams[\"figure.figsize\"] = 8, 5"
   ]
  },
  {
   "cell_type": "code",
   "execution_count": 15,
   "metadata": {},
   "outputs": [],
   "source": [
    "def model_matrices(min_m, exclude=0, excluded_funds=None, included_funds=None):\n",
    "    \"\"\"Risk-adjusted HPRs, mean returns, cov matrix, and symbol labels.\"\"\"\n",
    "    # Exclude funds\n",
    "    pm = price_mat.copy()\n",
    "    wks = available_weeks\n",
    "    \n",
    "    if included_funds:\n",
    "        excluded_funds = [s for s in pm.columns.values if s not in included_funds]\n",
    "    \n",
    "    if excluded_funds:\n",
    "        wks = [wks[i] for i in range(len(wks)) if pm.columns.values[i] not in excluded_funds]\n",
    "        pm = pm.drop(columns=excluded_funds)\n",
    "    \n",
    "    # Matrices\n",
    "    samples = [i for i in range(len(wks)) if wks[i]>=min_m]\n",
    "    sample_symbols = [pm.columns[i] for i in samples]\n",
    "    \n",
    "    X = pm.iloc[(pm.shape[0]-min_m):(pm.shape[0]-exclude), samples].copy()\n",
    "    X.reset_index(inplace=True)\n",
    "    X = X[(X.Week_Idx >= weekly_idx_rfr.Week_Idx.min()) & (X.Week_Idx <= weekly_idx_rfr.Week_Idx.max())]\n",
    "    RFR = weekly_idx_rfr.copy()\n",
    "    RFR = RFR[(RFR.Week_Idx >= X.Week_Idx.min()) & (RFR.Week_Idx <= X.Week_Idx.max())]\n",
    "    X.drop(columns=['Week_Idx'], inplace=True)\n",
    "    assert X.shape[0] == RFR.shape[0], \"RFR dimension mismatch\"\n",
    "    \n",
    "    ss_tbl = pd.merge(vanguard, pd.DataFrame({'Symbol': sample_symbols}), on='Symbol', how='inner')\n",
    "    \n",
    "    # Holding period return\n",
    "    H = X.values[1:X.shape[0]] / X.values[0:(X.shape[0]-1)] - 1\n",
    "    \n",
    "    for j in range(H.shape[1]):\n",
    "        H[:, j] -= RFR.RFR[1:RFR.shape[0]]\n",
    "    \n",
    "    M, N = H.shape\n",
    "    \n",
    "    # Mean returns\n",
    "    U = np.mean(H, axis=0).reshape((1,N))\n",
    "    \n",
    "    # Covariance matrix\n",
    "    S = np.cov(H.transpose())\n",
    "    \n",
    "    return {\n",
    "        'symbols': sample_symbols,\n",
    "        'data': X,\n",
    "        'hprs': H,\n",
    "        'dims': (M, N),\n",
    "        'mean': U,\n",
    "        'cov': S\n",
    "    }"
   ]
  },
  {
   "cell_type": "code",
   "execution_count": 16,
   "metadata": {},
   "outputs": [],
   "source": [
    "def wts(N):\n",
    "    x = np.random.uniform(0, 1, (1, N))\n",
    "    return x / x.sum()\n",
    "\n",
    "@jit\n",
    "def relu(x):\n",
    "    return jnp.maximum(x, 0.0)\n",
    "\n",
    "@jit\n",
    "def port_var(w, s):\n",
    "    return jnp.matmul(jnp.matmul(w, s), jnp.transpose(w))\n",
    "\n",
    "@jit\n",
    "def port_ret(w, u):\n",
    "    return jnp.matmul(w, jnp.transpose(u))\n",
    "\n",
    "@jit\n",
    "def port_eff(w, u, s):\n",
    "    return port_ret(w, u)/jnp.sqrt(port_var(w, s))"
   ]
  },
  {
   "cell_type": "code",
   "execution_count": 17,
   "metadata": {},
   "outputs": [],
   "source": [
    "def rescale_weights(w):\n",
    "    w = relu(w)            # No shorts\n",
    "    w = w / jnp.sum(w)     # Sum to 100%\n",
    "    return w\n",
    "\n",
    "def inline_obj1(w):\n",
    "    \"\"\"Optimize reward/risk ratio\"\"\"\n",
    "    w_rs = rescale_weights(w)\n",
    "    return -jnp.sum(port_eff(w_rs, U, S))\n",
    "\n",
    "def inline_obj2(w):\n",
    "    \"\"\"Optimize return\"\"\"\n",
    "    w_rs = rescale_weights(w)\n",
    "    return -jnp.sum(port_ret(w_rs, U))\n",
    "\n",
    "def inline_obj3(w):\n",
    "    \"\"\"Optimize variation\"\"\"\n",
    "    w_rs = rescale_weights(w)\n",
    "    return jnp.sum(jnp.sqrt(port_var(w_rs, S)))\n",
    "\n",
    "def inline_obj4(w):\n",
    "    \"\"\"Target KPIs\"\"\"\n",
    "    w_rs = rescale_weights(w)\n",
    "    ret = (1+jnp.sum(port_ret(w_rs, U)))**52 - 1\n",
    "    std = jnp.sqrt(jnp.sum(port_var(w_rs, S)))\n",
    "    return -((ret - 0.07)/std)"
   ]
  },
  {
   "cell_type": "code",
   "execution_count": 18,
   "metadata": {},
   "outputs": [],
   "source": [
    "def solve_portfolio(objfn, epochs, alpha, thresh=0.001):\n",
    "    f = objfn\n",
    "    g = grad(f)\n",
    "    w = wts(N)\n",
    "    \n",
    "    objs = []\n",
    "    prior_obj = None\n",
    "    \n",
    "    for epoch in range(epochs):\n",
    "        w -= alpha*g(w)\n",
    "        o = f(w)\n",
    "        objs.append(o)\n",
    "        \n",
    "        if prior_obj:\n",
    "            if thresh:\n",
    "                if abs(o/prior_obj-1) < thresh:\n",
    "                    break\n",
    "        prior_obj = o\n",
    "\n",
    "    w = rescale_weights(w)\n",
    "    \n",
    "    return w, objs\n",
    "\n",
    "def plot_objs(objs):\n",
    "    plt.plot(objs)\n",
    "    plt.title(\"Solver Result\")\n",
    "    plt.xlabel(\"Epoch\")\n",
    "    plt.ylabel(\"Weekly Objective Function\")\n",
    "    plt.show()\n",
    "\n",
    "def portfolio_stats(w):\n",
    "    stats = {}\n",
    "    stats['annualized return'] = (1+port_ret(w, U)[0,0]) ** 52 - 1\n",
    "    stats['annualized stddev'] = jnp.sqrt(52*port_var(w, S))[0,0]\n",
    "    stats['annualized sharpe ratio'] = stats['annualized return']/stats['annualized stddev']\n",
    "    \n",
    "    for i in range(N):\n",
    "        if w[1, i] > 0:\n",
    "            stats[sample_symbols[i]] = w[1, i]*100\n",
    "    \n",
    "    return stats"
   ]
  },
  {
   "cell_type": "markdown",
   "metadata": {},
   "source": [
    "# Core Funds With COVID\n",
    "\n",
    "---"
   ]
  },
  {
   "cell_type": "markdown",
   "metadata": {},
   "source": [
    "### Define Constants"
   ]
  },
  {
   "cell_type": "code",
   "execution_count": 19,
   "metadata": {},
   "outputs": [
    {
     "name": "stdout",
     "output_type": "stream",
     "text": [
      "4/4 Funds\n"
     ]
    }
   ],
   "source": [
    "min_weeks = 52*7\n",
    "\n",
    "assets = model_matrices(min_weeks, exclude=0, included_funds = [\"BND\", \"BNDX\", \"VTI\", \"VXUS\"])\n",
    "X = assets['data']\n",
    "sample_symbols = assets['symbols']\n",
    "H = assets['hprs']\n",
    "M, N = assets['dims']\n",
    "U = assets['mean']\n",
    "S = assets['cov']\n",
    "\n",
    "print(f\"{X.shape[1]}/4 Funds\")"
   ]
  },
  {
   "cell_type": "markdown",
   "metadata": {},
   "source": [
    "### Maximize Sharpe Ratio"
   ]
  },
  {
   "cell_type": "code",
   "execution_count": 20,
   "metadata": {},
   "outputs": [
    {
     "name": "stderr",
     "output_type": "stream",
     "text": [
      "WARNING:absl:No GPU/TPU found, falling back to CPU. (Set TF_CPP_MIN_LOG_LEVEL=0 and rerun for more info.)\n"
     ]
    },
    {
     "data": {
      "image/png": "[encoded data removed]",
      "text/plain": [
       "<Figure size 576x360 with 1 Axes>"
      ]
     },
     "metadata": {
      "needs_background": "light"
     },
     "output_type": "display_data"
    },
    {
     "data": {
      "text/plain": [
       "{'annualized return': DeviceArray(0.04896259, dtype=float32),\n",
       " 'annualized stddev': DeviceArray(0.04206795, dtype=float32),\n",
       " 'annualized sharpe ratio': DeviceArray(1.163893, dtype=float32),\n",
       " 'BNDX': DeviceArray(86.64149, dtype=float32),\n",
       " 'VTI': DeviceArray(13.358517, dtype=float32)}"
      ]
     },
     "execution_count": 20,
     "metadata": {},
     "output_type": "execute_result"
    }
   ],
   "source": [
    "w_covid_obj1_core, objs = solve_portfolio(inline_obj1, 500, 0.5, 1e-9)\n",
    "plot_objs(objs)\n",
    "portfolio_stats(w_covid_obj1_core)"
   ]
  },
  {
   "cell_type": "markdown",
   "metadata": {},
   "source": [
    "### Maximize Return"
   ]
  },
  {
   "cell_type": "code",
   "execution_count": 21,
   "metadata": {},
   "outputs": [
    {
     "data": {
      "image/png": "[encoded data removed]",
      "text/plain": [
       "<Figure size 576x360 with 1 Axes>"
      ]
     },
     "metadata": {
      "needs_background": "light"
     },
     "output_type": "display_data"
    },
    {
     "data": {
      "text/plain": [
       "{'annualized return': DeviceArray(0.13398743, dtype=float32),\n",
       " 'annualized stddev': DeviceArray(0.17180002, dtype=float32),\n",
       " 'annualized sharpe ratio': DeviceArray(0.7799035, dtype=float32),\n",
       " 'VTI': DeviceArray(100., dtype=float32)}"
      ]
     },
     "execution_count": 21,
     "metadata": {},
     "output_type": "execute_result"
    }
   ],
   "source": [
    "w_covid_obj2_core, objs = solve_portfolio(inline_obj2, 1000, .50, None)\n",
    "plot_objs(objs)\n",
    "portfolio_stats(w_covid_obj2_core)"
   ]
  },
  {
   "cell_type": "markdown",
   "metadata": {},
   "source": [
    "### Minimize Risk"
   ]
  },
  {
   "cell_type": "code",
   "execution_count": 22,
   "metadata": {},
   "outputs": [
    {
     "data": {
      "image/png": "[encoded data removed]",
      "text/plain": [
       "<Figure size 576x360 with 1 Axes>"
      ]
     },
     "metadata": {
      "needs_background": "light"
     },
     "output_type": "display_data"
    },
    {
     "data": {
      "text/plain": [
       "{'annualized return': DeviceArray(0.03525496, dtype=float32),\n",
       " 'annualized stddev': DeviceArray(0.03712337, dtype=float32),\n",
       " 'annualized sharpe ratio': DeviceArray(0.9496702, dtype=float32),\n",
       " 'BND': DeviceArray(33.441414, dtype=float32),\n",
       " 'BNDX': DeviceArray(65.23906, dtype=float32),\n",
       " 'VXUS': DeviceArray(1.3195235, dtype=float32)}"
      ]
     },
     "execution_count": 22,
     "metadata": {},
     "output_type": "execute_result"
    }
   ],
   "source": [
    "w_covid_obj3_core, objs = solve_portfolio(inline_obj3, 500, .50, 1e-9)\n",
    "plot_objs(objs)\n",
    "portfolio_stats(w_covid_obj3_core)"
   ]
  },
  {
   "cell_type": "markdown",
   "metadata": {},
   "source": [
    "### Efficient Frontier"
   ]
  },
  {
   "cell_type": "code",
   "execution_count": 23,
   "metadata": {},
   "outputs": [
    {
     "data": {
      "image/png": "[encoded data removed]",
      "text/plain": [
       "<Figure size 576x360 with 1 Axes>"
      ]
     },
     "metadata": {
      "needs_background": "light"
     },
     "output_type": "display_data"
    },
    {
     "name": "stdout",
     "output_type": "stream",
     "text": [
      "[[0.         0.6064904  0.39350963 0.        ]]\n"
     ]
    }
   ],
   "source": [
    "weights = np.random.uniform(0, 1, (1000, 4))\n",
    "weights = np.divide(weights, weights.sum(axis=1).reshape((1000, 1)))\n",
    "\n",
    "p_returns = (1.00 + port_ret(weights, U))**52 - 1\n",
    "p_vars = np.sqrt(52*np.array([port_var(weights[i, :].reshape((1,4)), S) for i in range(1000)]))\n",
    "\n",
    "plt.scatter(p_vars, p_returns, c='gray', label='Random')\n",
    "\n",
    "plt.scatter(np.sqrt(52*port_var(w_covid_obj1_core, S)),\n",
    "            (1.00 + port_ret(w_covid_obj1_core, U))**52 - 1, c='green', label='Max Sharpe')\n",
    "plt.scatter(np.sqrt(52*port_var(w_covid_obj2_core, S)),\n",
    "            (1.00 + port_ret(w_covid_obj2_core, U))**52 - 1, c='red', label='Max Return')\n",
    "plt.scatter(np.sqrt(52*port_var(w_covid_obj3_core, S)),\n",
    "            (1.00 + port_ret(w_covid_obj3_core, U))**52 - 1, c='blue', label='Min Risk')\n",
    "\n",
    "w_covid_obj4_core = 0.70*w_covid_obj1_core + 0.30*w_covid_obj2_core\n",
    "plt.scatter(np.sqrt(52*port_var(w_covid_obj4_core, S)),\n",
    "            (1.00 + port_ret(w_covid_obj4_core, U))**52 - 1, c='orange', label='Sharpe/Ret Blend')\n",
    "\n",
    "plt.legend()\n",
    "plt.show()\n",
    "\n",
    "print(w_covid_obj4_core)"
   ]
  },
  {
   "cell_type": "code",
   "execution_count": 24,
   "metadata": {},
   "outputs": [
    {
     "data": {
      "image/png": "[encoded data removed]",
      "text/plain": [
       "<Figure size 576x360 with 1 Axes>"
      ]
     },
     "metadata": {
      "needs_background": "light"
     },
     "output_type": "display_data"
    }
   ],
   "source": [
    "plt.scatter(H[:,2], H[:,3])\n",
    "plt.title('VXUS ~ VTI')\n",
    "plt.show()"
   ]
  },
  {
   "cell_type": "markdown",
   "metadata": {},
   "source": [
    "# With COVID\n",
    "\n",
    "---"
   ]
  },
  {
   "cell_type": "markdown",
   "metadata": {},
   "source": [
    "### Define Constants"
   ]
  },
  {
   "cell_type": "code",
   "execution_count": 25,
   "metadata": {},
   "outputs": [],
   "source": [
    "min_weeks = 52*10\n",
    "\n",
    "assets = model_matrices(min_weeks, exclude=0)\n",
    "X = assets['data']\n",
    "sample_symbols = assets['symbols']\n",
    "H = assets['hprs']\n",
    "M, N = assets['dims']\n",
    "U = assets['mean']\n",
    "S = assets['cov']"
   ]
  },
  {
   "cell_type": "markdown",
   "metadata": {},
   "source": [
    "### Maximize Sharpe Ratio"
   ]
  },
  {
   "cell_type": "code",
   "execution_count": 26,
   "metadata": {},
   "outputs": [
    {
     "data": {
      "image/png": "[encoded data removed]",
      "text/plain": [
       "<Figure size 576x360 with 1 Axes>"
      ]
     },
     "metadata": {
      "needs_background": "light"
     },
     "output_type": "display_data"
    },
    {
     "data": {
      "text/plain": [
       "{'annualized return': DeviceArray(0.03832245, dtype=float32),\n",
       " 'annualized stddev': DeviceArray(0.02419143, dtype=float32),\n",
       " 'annualized sharpe ratio': DeviceArray(1.5841331, dtype=float32),\n",
       " 'EDV': DeviceArray(3.1561632, dtype=float32),\n",
       " 'GSY': DeviceArray(15.704322, dtype=float32),\n",
       " 'VGIT': DeviceArray(29.011593, dtype=float32),\n",
       " 'VGSH': DeviceArray(40.58874, dtype=float32),\n",
       " 'VGT': DeviceArray(8.9932165, dtype=float32),\n",
       " 'VHT': DeviceArray(2.545967, dtype=float32)}"
      ]
     },
     "execution_count": 26,
     "metadata": {},
     "output_type": "execute_result"
    }
   ],
   "source": [
    "w_covid_obj1, objs = solve_portfolio(inline_obj1, 500, 0.5, 1e-9)\n",
    "plot_objs(objs)\n",
    "portfolio_stats(w_covid_obj1)"
   ]
  },
  {
   "cell_type": "markdown",
   "metadata": {},
   "source": [
    "### Maximize Return"
   ]
  },
  {
   "cell_type": "code",
   "execution_count": 27,
   "metadata": {},
   "outputs": [
    {
     "data": {
      "image/png": "[encoded data removed]",
      "text/plain": [
       "<Figure size 576x360 with 1 Axes>"
      ]
     },
     "metadata": {
      "needs_background": "light"
     },
     "output_type": "display_data"
    },
    {
     "data": {
      "text/plain": [
       "{'annualized return': DeviceArray(0.2143625, dtype=float32),\n",
       " 'annualized stddev': DeviceArray(0.19139278, dtype=float32),\n",
       " 'annualized sharpe ratio': DeviceArray(1.1200135, dtype=float32),\n",
       " 'VGT': DeviceArray(100., dtype=float32)}"
      ]
     },
     "execution_count": 27,
     "metadata": {},
     "output_type": "execute_result"
    }
   ],
   "source": [
    "w_covid_obj2, objs = solve_portfolio(inline_obj2, 750, .50, 1e-9)\n",
    "plot_objs(objs)\n",
    "portfolio_stats(w_covid_obj2)"
   ]
  },
  {
   "cell_type": "markdown",
   "metadata": {},
   "source": [
    "### Minimize Risk"
   ]
  },
  {
   "cell_type": "code",
   "execution_count": 28,
   "metadata": {},
   "outputs": [
    {
     "data": {
      "image/png": "[encoded data removed]",
      "text/plain": [
       "<Figure size 576x360 with 1 Axes>"
      ]
     },
     "metadata": {
      "needs_background": "light"
     },
     "output_type": "display_data"
    },
    {
     "data": {
      "text/plain": [
       "{'annualized return': DeviceArray(-0.00019217, dtype=float32),\n",
       " 'annualized stddev': DeviceArray(0.00367213, dtype=float32),\n",
       " 'annualized sharpe ratio': DeviceArray(-0.0523307, dtype=float32),\n",
       " 'BIL': DeviceArray(90.670105, dtype=float32),\n",
       " 'GSY': DeviceArray(7.774534, dtype=float32),\n",
       " 'VGSH': DeviceArray(1.5553656, dtype=float32)}"
      ]
     },
     "execution_count": 28,
     "metadata": {},
     "output_type": "execute_result"
    }
   ],
   "source": [
    "w_covid_obj3, objs = solve_portfolio(inline_obj3, 500, .50, 1e-9)\n",
    "plot_objs(objs)\n",
    "portfolio_stats(w_covid_obj3)"
   ]
  },
  {
   "cell_type": "markdown",
   "metadata": {},
   "source": [
    "### Minimize Risk after Target Return"
   ]
  },
  {
   "cell_type": "code",
   "execution_count": 29,
   "metadata": {},
   "outputs": [
    {
     "data": {
      "image/png": "[encoded data removed]",
      "text/plain": [
       "<Figure size 576x360 with 1 Axes>"
      ]
     },
     "metadata": {
      "needs_background": "light"
     },
     "output_type": "display_data"
    },
    {
     "data": {
      "text/plain": [
       "{'annualized return': DeviceArray(0.18439567, dtype=float32),\n",
       " 'annualized stddev': DeviceArray(0.12152639, dtype=float32),\n",
       " 'annualized sharpe ratio': DeviceArray(1.5173303, dtype=float32),\n",
       " 'EDV': DeviceArray(36.843468, dtype=float32),\n",
       " 'VGT': DeviceArray(63.15653, dtype=float32)}"
      ]
     },
     "execution_count": 29,
     "metadata": {},
     "output_type": "execute_result"
    }
   ],
   "source": [
    "w_covid_obj4, objs = solve_portfolio(inline_obj4, 500, .50, 1e-9)\n",
    "plot_objs(objs)\n",
    "portfolio_stats(w_covid_obj4)"
   ]
  },
  {
   "cell_type": "markdown",
   "metadata": {},
   "source": [
    "## Without COVID\n",
    "\n",
    "---"
   ]
  },
  {
   "cell_type": "markdown",
   "metadata": {},
   "source": [
    "### Define Constants"
   ]
  },
  {
   "cell_type": "code",
   "execution_count": 30,
   "metadata": {},
   "outputs": [],
   "source": [
    "min_weeks = 52*10\n",
    "\n",
    "assets = model_matrices(min_weeks, exclude=52)\n",
    "X = assets['data']\n",
    "sample_symbols = assets['symbols']\n",
    "H = assets['hprs']\n",
    "M, N = assets['dims']\n",
    "U = assets['mean']\n",
    "S = assets['cov']"
   ]
  },
  {
   "cell_type": "markdown",
   "metadata": {},
   "source": [
    "### Maximize Sharpe Ratio"
   ]
  },
  {
   "cell_type": "code",
   "execution_count": 31,
   "metadata": {},
   "outputs": [
    {
     "data": {
      "image/png": "[encoded data removed]",
      "text/plain": [
       "<Figure size 576x360 with 1 Axes>"
      ]
     },
     "metadata": {
      "needs_background": "light"
     },
     "output_type": "display_data"
    },
    {
     "data": {
      "text/plain": [
       "{'annualized return': DeviceArray(0.02469969, dtype=float32),\n",
       " 'annualized stddev': DeviceArray(0.01236243, dtype=float32),\n",
       " 'annualized sharpe ratio': DeviceArray(1.9979645, dtype=float32),\n",
       " 'EDV': DeviceArray(1.8068079, dtype=float32),\n",
       " 'GSY': DeviceArray(68.15935, dtype=float32),\n",
       " 'VCSH': DeviceArray(20.983273, dtype=float32),\n",
       " 'VGT': DeviceArray(3.226071, dtype=float32),\n",
       " 'VHT': DeviceArray(1.070796, dtype=float32),\n",
       " 'VMBS': DeviceArray(2.067553, dtype=float32),\n",
       " 'VPU': DeviceArray(0.38067886, dtype=float32),\n",
       " 'VYM': DeviceArray(2.305474, dtype=float32)}"
      ]
     },
     "execution_count": 31,
     "metadata": {},
     "output_type": "execute_result"
    }
   ],
   "source": [
    "w_nocovid_obj1, objs = solve_portfolio(inline_obj1, 1250, 0.05, 1e-9)\n",
    "plot_objs(objs)\n",
    "portfolio_stats(w_nocovid_obj1)"
   ]
  },
  {
   "cell_type": "markdown",
   "metadata": {},
   "source": [
    "### Maximize Return"
   ]
  },
  {
   "cell_type": "code",
   "execution_count": 32,
   "metadata": {},
   "outputs": [
    {
     "data": {
      "image/png": "[encoded data removed]",
      "text/plain": [
       "<Figure size 576x360 with 1 Axes>"
      ]
     },
     "metadata": {
      "needs_background": "light"
     },
     "output_type": "display_data"
    },
    {
     "data": {
      "text/plain": [
       "{'annualized return': DeviceArray(0.18673134, dtype=float32),\n",
       " 'annualized stddev': DeviceArray(0.16798106, dtype=float32),\n",
       " 'annualized sharpe ratio': DeviceArray(1.1116214, dtype=float32),\n",
       " 'VGT': DeviceArray(100., dtype=float32)}"
      ]
     },
     "execution_count": 32,
     "metadata": {},
     "output_type": "execute_result"
    }
   ],
   "source": [
    "w_nocovid_obj2, objs = solve_portfolio(inline_obj2, 750, .50, 1e-10)\n",
    "plot_objs(objs)\n",
    "portfolio_stats(w_nocovid_obj2)"
   ]
  },
  {
   "cell_type": "markdown",
   "metadata": {},
   "source": [
    "### Minimize Risk"
   ]
  },
  {
   "cell_type": "code",
   "execution_count": 33,
   "metadata": {},
   "outputs": [
    {
     "data": {
      "image/png": "[encoded data removed]",
      "text/plain": [
       "<Figure size 576x360 with 1 Axes>"
      ]
     },
     "metadata": {
      "needs_background": "light"
     },
     "output_type": "display_data"
    },
    {
     "data": {
      "text/plain": [
       "{'annualized return': DeviceArray(0.00106657, dtype=float32),\n",
       " 'annualized stddev': DeviceArray(0.00347679, dtype=float32),\n",
       " 'annualized sharpe ratio': DeviceArray(0.30676705, dtype=float32),\n",
       " 'BIL': DeviceArray(78.14953, dtype=float32),\n",
       " 'GSY': DeviceArray(21.850475, dtype=float32)}"
      ]
     },
     "execution_count": 33,
     "metadata": {},
     "output_type": "execute_result"
    }
   ],
   "source": [
    "w_nocovid_obj3, objs = solve_portfolio(inline_obj3, 500, .50, 1e-9)\n",
    "plot_objs(objs)\n",
    "portfolio_stats(w_nocovid_obj3)"
   ]
  },
  {
   "cell_type": "markdown",
   "metadata": {},
   "source": [
    "### Minimize Risk after Target Return"
   ]
  },
  {
   "cell_type": "code",
   "execution_count": 34,
   "metadata": {},
   "outputs": [
    {
     "data": {
      "image/png": "[encoded data removed]",
      "text/plain": [
       "<Figure size 576x360 with 1 Axes>"
      ]
     },
     "metadata": {
      "needs_background": "light"
     },
     "output_type": "display_data"
    },
    {
     "data": {
      "text/plain": [
       "{'annualized return': DeviceArray(0.1622082, dtype=float32),\n",
       " 'annualized stddev': DeviceArray(0.09892707, dtype=float32),\n",
       " 'annualized sharpe ratio': DeviceArray(1.6396747, dtype=float32),\n",
       " 'EDV': DeviceArray(33.411846, dtype=float32),\n",
       " 'VGT': DeviceArray(47.993195, dtype=float32),\n",
       " 'VHT': DeviceArray(18.594957, dtype=float32)}"
      ]
     },
     "execution_count": 34,
     "metadata": {},
     "output_type": "execute_result"
    }
   ],
   "source": [
    "w_nocovid_obj4, objs = solve_portfolio(inline_obj4, 500, .50, 1e-9)\n",
    "plot_objs(objs)\n",
    "portfolio_stats(w_nocovid_obj4)"
   ]
  },
  {
   "cell_type": "markdown",
   "metadata": {},
   "source": [
    "## Without COVID - xVGT\n",
    "\n",
    "---"
   ]
  },
  {
   "cell_type": "markdown",
   "metadata": {},
   "source": [
    "### Define Constants"
   ]
  },
  {
   "cell_type": "code",
   "execution_count": 35,
   "metadata": {},
   "outputs": [],
   "source": [
    "min_weeks = 52*10\n",
    "\n",
    "assets = model_matrices(min_weeks, exclude=52, excluded_funds=['VGT'])\n",
    "X = assets['data']\n",
    "sample_symbols = assets['symbols']\n",
    "H = assets['hprs']\n",
    "M, N = assets['dims']\n",
    "U = assets['mean']\n",
    "S = assets['cov']"
   ]
  },
  {
   "cell_type": "markdown",
   "metadata": {},
   "source": [
    "### Maximize Return"
   ]
  },
  {
   "cell_type": "code",
   "execution_count": 39,
   "metadata": {},
   "outputs": [
    {
     "data": {
      "image/png": "[encoded data removed]",
      "text/plain": [
       "<Figure size 576x360 with 1 Axes>"
      ]
     },
     "metadata": {
      "needs_background": "light"
     },
     "output_type": "display_data"
    },
    {
     "data": {
      "text/plain": [
       "{'annualized return': DeviceArray(0.16497922, dtype=float32),\n",
       " 'annualized stddev': DeviceArray(0.14717685, dtype=float32),\n",
       " 'annualized sharpe ratio': DeviceArray(1.120959, dtype=float32),\n",
       " 'VHT': DeviceArray(100., dtype=float32)}"
      ]
     },
     "execution_count": 39,
     "metadata": {},
     "output_type": "execute_result"
    }
   ],
   "source": [
    "w_nocovid_obj2_xvgt, objs = solve_portfolio(inline_obj2, 1500, .3, None)\n",
    "plot_objs(objs)\n",
    "portfolio_stats(w_nocovid_obj2_xvgt)"
   ]
  },
  {
   "cell_type": "markdown",
   "metadata": {},
   "source": [
    "### Minimize Risk after Target Return"
   ]
  },
  {
   "cell_type": "code",
   "execution_count": 37,
   "metadata": {},
   "outputs": [
    {
     "data": {
      "image/png": "[encoded data removed]",
      "text/plain": [
       "<Figure size 576x360 with 1 Axes>"
      ]
     },
     "metadata": {
      "needs_background": "light"
     },
     "output_type": "display_data"
    },
    {
     "data": {
      "text/plain": [
       "{'annualized return': DeviceArray(0.14941156, dtype=float32),\n",
       " 'annualized stddev': DeviceArray(0.09413696, dtype=float32),\n",
       " 'annualized sharpe ratio': DeviceArray(1.5871722, dtype=float32),\n",
       " 'EDV': DeviceArray(31.992516, dtype=float32),\n",
       " 'MGK': DeviceArray(0.22468956, dtype=float32),\n",
       " 'VCR': DeviceArray(34.95151, dtype=float32),\n",
       " 'VHT': DeviceArray(31.854576, dtype=float32),\n",
       " 'VPU': DeviceArray(0.97670484, dtype=float32)}"
      ]
     },
     "execution_count": 37,
     "metadata": {},
     "output_type": "execute_result"
    }
   ],
   "source": [
    "w_nocovid_obj4_xvgt, objs = solve_portfolio(inline_obj4, 500, .50, 1e-9)\n",
    "plot_objs(objs)\n",
    "portfolio_stats(w_nocovid_obj4_xvgt)"
   ]
  },
  {
   "cell_type": "markdown",
   "metadata": {},
   "source": [
    "## Selected Strategy & Notes\n",
    "\n",
    "---"
   ]
  },
  {
   "cell_type": "markdown",
   "metadata": {},
   "source": [
    "### Observations\n",
    "\n",
    "#### Efficient Portfolio\n",
    "\n",
    "Both pre and post COVID are able to achieve an annualized sharpe ratio of about 1.52. Post COVID suggests an annualized return just shy of 4%, while pre stands at around 2.5%. The latter seems to have issues converging as evidenced in both the objective function curve as well as low parisomony in the solution.\n",
    "\n",
    "Intersection:\n",
    "- EDV 3%\n",
    "- GSY 16/69%\n",
    "- VGT 9/3%\n",
    "- VHT 2.5/1%\n",
    "\n",
    "COVID Only:\n",
    "- VGIT 29% (intermediate term treasury)\n",
    "- VGSH 41% (short term treasury)\n",
    "\n",
    "No-COVID Only:\n",
    "- VCSH 21% (short term corporate bonds)\n",
    "- VMBS 2% (mortgage backed securities)\n",
    "- VPU 0.25% (utilities)\n",
    "- VYM 2% (high dividend)\n",
    "\n",
    "Materially speaking, the COVID period caused the solution to drop short-term corporate bonds in lieu of a mix of ultra-safe treasury bonds. From a purely visual examination I believe this behavior is almost entirely due to several weeks of volatility during March.\n",
    "\n",
    "#### Maximum Return\n",
    "\n",
    "Both time periods weight 100% on VGT (technology). Obviously not diversified. This has been where most of the growth has been in recent history, and it's in my opinion likely to continue for the foreseeable future. Also good to note that the singular weighting is not just a function of the exceptional growth during shutdowns.\n",
    "\n",
    "When VGT is excluded, Pre-COVID weights 100% to VHT.\n",
    "\n",
    "#### Minimal Risk\n",
    "\n",
    "Both periods weight heavily on BIL and GSY. Post-COVID puts a 1.52% allocation on VGSH (short term treasury ETF). That looks like overfitting to me - probably a function of some of the perturbations we saw back in March.\n",
    "\n",
    "#### Targeted Return / Minimal Risk\n",
    "\n",
    "Either period weights heavily on EDV (extended duration treasury) and VGT. Pre-COVID reduces the 63% weight on VGT to 48%, and EDV 37% to 33%, putting the difference into VHT (health care).\n",
    "\n",
    "Pre-COVID xVHT weights 60/40 VHT/EDV."
   ]
  },
  {
   "cell_type": "markdown",
   "metadata": {},
   "source": [
    "### Selected Strategy\n",
    "\n",
    "While the risk/reward tradeoff of the portfolio optimized for the sharpe ratio is appealing, the expected annualized return is below what I'm looking for. I also don't like how any of these strategies weight heavily towards specific sectors/industries - I view the higher sharpe ratio (~1.5 vs ~1.2) as a technical win that exposes the portfolio to unnecessary non-systematic risk.\n",
    "\n",
    "The strategy will be to lean more towards the core ETF mix, but include several insights from the granular view. Namely, allocation into tech and healthcare will be used to boost expected return, and extended duration treasuries will be used to decorrelate the sector ETFs. I'll also inspect an allocation towards BIL/GSY for ultra low risk.\n",
    "\n",
    "__Maximum Return Portfolio:__ A mix between `VTI`, `VXUS`, `VGT`, `VHT`.\n",
    "\n",
    "__Minimum Risk Portfolio:__ A mix between `BIL`, `EDV`, `GSY`, `BND` and `BNDX`."
   ]
  },
  {
   "cell_type": "code",
   "execution_count": 78,
   "metadata": {},
   "outputs": [
    {
     "data": {
      "image/png": "[encoded data removed]",
      "text/plain": [
       "<Figure size 576x360 with 1 Axes>"
      ]
     },
     "metadata": {
      "needs_background": "light"
     },
     "output_type": "display_data"
    }
   ],
   "source": [
    "# w_covid_obj1\n",
    "# w_covid_obj1_core\n",
    "assets = model_matrices(52*7, included_funds = [\"VTI\", \"VXUS\", \"VGT\", \"VHT\"])\n",
    "X = assets['data']\n",
    "sample_symbols_a = assets['symbols']\n",
    "H = assets['hprs']\n",
    "M, N = assets['dims']\n",
    "U = assets['mean']\n",
    "S = assets['cov']\n",
    "\n",
    "w_a_s, _ = solve_portfolio(inline_obj1, 500, 0.05, None)\n",
    "w_a_r, obj = solve_portfolio(inline_obj3, 1000, 0.25, None)\n",
    "\n",
    "plot_objs(obj)"
   ]
  },
  {
   "cell_type": "code",
   "execution_count": 79,
   "metadata": {},
   "outputs": [
    {
     "data": {
      "image/png": "[encoded data removed]",
      "text/plain": [
       "<Figure size 576x360 with 1 Axes>"
      ]
     },
     "metadata": {
      "needs_background": "light"
     },
     "output_type": "display_data"
    },
    {
     "name": "stdout",
     "output_type": "stream",
     "text": [
      "[[0.5        0.1078437  0.20087336 0.19128294]]\n"
     ]
    }
   ],
   "source": [
    "weights = np.random.uniform(0, 1, (1000, 4))\n",
    "weights = np.divide(weights, weights.sum(axis=1).reshape((1000, 1)))\n",
    "\n",
    "p_returns = (1.00 + port_ret(weights, U))**52 - 1\n",
    "p_vars = np.sqrt(52*np.array([port_var(weights[i, :].reshape((1,4)), S) for i in range(1000)]))\n",
    "\n",
    "plt.scatter(p_vars, p_returns, c='gray', label='Random')\n",
    "\n",
    "plt.scatter(np.sqrt(52*port_var(w_a_s, S)),\n",
    "            (1.00 + port_ret(w_a_s, U))**52 - 1, c='green', label='Max Sharpe')\n",
    "\n",
    "plt.scatter(np.sqrt(52*port_var(w_a_r, S)),\n",
    "            (1.00 + port_ret(w_a_r, U))**52 - 1, c='blue', label='Min Risk')\n",
    "\n",
    "PORTFOLIO_A = 0.50*w_a_r + 0.5*w_a_s\n",
    "plt.scatter(np.sqrt(52*port_var(PORTFOLIO_A, S)),\n",
    "            (1.00 + port_ret(PORTFOLIO_A, U))**52 - 1, c='orange', label='PORTFOLIO A')\n",
    "\n",
    "plt.legend()\n",
    "plt.show()\n",
    "print(PORTFOLIO_A)"
   ]
  },
  {
   "cell_type": "code",
   "execution_count": 80,
   "metadata": {},
   "outputs": [
    {
     "data": {
      "image/png": "[encoded data removed]",
      "text/plain": [
       "<Figure size 576x360 with 1 Axes>"
      ]
     },
     "metadata": {
      "needs_background": "light"
     },
     "output_type": "display_data"
    }
   ],
   "source": [
    "# w_covid_obj1\n",
    "# w_covid_obj1_core\n",
    "assets = model_matrices(52*7, included_funds = ['BIL', 'EDV', 'GSY', 'BND', 'BNDX'])\n",
    "X = assets['data']\n",
    "sample_symbols_b = assets['symbols']\n",
    "H = assets['hprs']\n",
    "M, N = assets['dims']\n",
    "U = assets['mean']\n",
    "S = assets['cov']\n",
    "\n",
    "w_a_s, _ = solve_portfolio(inline_obj1, 500, 0.05, None)\n",
    "w_a_r, obj = solve_portfolio(inline_obj3, 1000, 0.25, None)\n",
    "\n",
    "plot_objs(obj)"
   ]
  },
  {
   "cell_type": "code",
   "execution_count": 81,
   "metadata": {},
   "outputs": [
    {
     "data": {
      "image/png": "[encoded data removed]",
      "text/plain": [
       "<Figure size 576x360 with 1 Axes>"
      ]
     },
     "metadata": {
      "needs_background": "light"
     },
     "output_type": "display_data"
    },
    {
     "name": "stdout",
     "output_type": "stream",
     "text": [
      "[[0.         0.         0.60243505 0.         0.39756492]]\n"
     ]
    }
   ],
   "source": [
    "weights = np.random.uniform(0, 1, (1000, 5))\n",
    "weights = np.divide(weights, weights.sum(axis=1).reshape((1000, 1)))\n",
    "\n",
    "p_returns = (1.00 + port_ret(weights, U))**52 - 1\n",
    "p_vars = np.sqrt(52*np.array([port_var(weights[i, :].reshape((1,5)), S) for i in range(1000)]))\n",
    "\n",
    "plt.scatter(p_vars, p_returns, c='gray', label='Random')\n",
    "\n",
    "plt.scatter(np.sqrt(52*port_var(w_a_s, S)),\n",
    "            (1.00 + port_ret(w_a_s, U))**52 - 1, c='green', label='Max Sharpe')\n",
    "\n",
    "plt.scatter(np.sqrt(52*port_var(w_a_r, S)),\n",
    "            (1.00 + port_ret(w_a_r, U))**52 - 1, c='blue', label='Min Risk')\n",
    "\n",
    "PORTFOLIO_B = 0*w_a_r + 1*w_a_s\n",
    "plt.scatter(np.sqrt(52*port_var(PORTFOLIO_B, S)),\n",
    "            (1.00 + port_ret(PORTFOLIO_B, U))**52 - 1, c='orange', label='PORTFOLIO B')\n",
    "\n",
    "plt.legend()\n",
    "plt.show()\n",
    "print(PORTFOLIO_B)"
   ]
  },
  {
   "cell_type": "code",
   "execution_count": 127,
   "metadata": {},
   "outputs": [
    {
     "data": {
      "image/png": "[encoded data removed]",
      "text/plain": [
       "<Figure size 576x360 with 1 Axes>"
      ]
     },
     "metadata": {
      "needs_background": "light"
     },
     "output_type": "display_data"
    }
   ],
   "source": [
    "assets = model_matrices(52*7, included_funds = [\"VTI\", \"VXUS\", \"VGT\", \"VHT\", 'BIL', 'EDV', 'GSY', 'BND', 'BNDX'])\n",
    "X = assets['data']\n",
    "sample_symbols = assets['symbols']\n",
    "H = assets['hprs']\n",
    "M, N = assets['dims']\n",
    "U = assets['mean']\n",
    "S = assets['cov']\n",
    "\n",
    "w_a_s, _ = solve_portfolio(inline_obj1, 500, 0.05, None)\n",
    "w_a_r, obj = solve_portfolio(inline_obj3, 1000, 0.25, None)\n",
    "\n",
    "plot_objs(obj)"
   ]
  },
  {
   "cell_type": "code",
   "execution_count": 87,
   "metadata": {},
   "outputs": [
    {
     "name": "stdout",
     "output_type": "stream",
     "text": [
      "['BIL', 'BND', 'BNDX', 'EDV', 'GSY', 'VGT', 'VHT', 'VTI', 'VXUS']\n"
     ]
    }
   ],
   "source": [
    "print(sample_symbols)"
   ]
  },
  {
   "cell_type": "code",
   "execution_count": 85,
   "metadata": {},
   "outputs": [
    {
     "name": "stdout",
     "output_type": "stream",
     "text": [
      "['VGT', 'VHT', 'VTI', 'VXUS']\n",
      "[[0.5        0.1078437  0.20087336 0.19128294]]\n"
     ]
    }
   ],
   "source": [
    "print(sample_symbols_a)\n",
    "print(PORTFOLIO_A)"
   ]
  },
  {
   "cell_type": "code",
   "execution_count": 86,
   "metadata": {},
   "outputs": [
    {
     "name": "stdout",
     "output_type": "stream",
     "text": [
      "['BIL', 'BND', 'BNDX', 'EDV', 'GSY']\n",
      "[[0.         0.         0.60243505 0.         0.39756492]]\n"
     ]
    }
   ],
   "source": [
    "print(sample_symbols_b)\n",
    "print(PORTFOLIO_B)"
   ]
  },
  {
   "cell_type": "code",
   "execution_count": 123,
   "metadata": {},
   "outputs": [
    {
     "data": {
      "image/png": "[encoded data removed]",
      "text/plain": [
       "<Figure size 576x360 with 1 Axes>"
      ]
     },
     "metadata": {
      "needs_background": "light"
     },
     "output_type": "display_data"
    },
    {
     "name": "stdout",
     "output_type": "stream",
     "text": [
      "[[0.   0.   0.36 0.   0.24 0.2  0.04 0.08 0.08]]\n",
      "[[0.14006634 0.         0.57650113 0.0757977  0.         0.20763485\n",
      "  0.         0.         0.        ]]\n"
     ]
    }
   ],
   "source": [
    "weights = np.random.uniform(0, 1, (1000, 9))\n",
    "weights = np.divide(weights, weights.sum(axis=1).reshape((1000, 1)))\n",
    "\n",
    "p_returns = (1.00 + port_ret(weights, U))**52 - 1\n",
    "p_vars = np.sqrt(52*np.array([port_var(weights[i, :].reshape((1,9)), S) for i in range(1000)]))\n",
    "\n",
    "plt.scatter(p_vars, p_returns, c='gray', label='Random')\n",
    "\n",
    "plt.scatter(np.sqrt(52*port_var(w_a_s, S)),\n",
    "            (1.00 + port_ret(w_a_s, U))**52 - 1, c='green', label='Max Sharpe')\n",
    "\n",
    "plt.scatter(np.sqrt(52*port_var(w_a_r, S)),\n",
    "            (1.00 + port_ret(w_a_r, U))**52 - 1, c='blue', label='Min Risk')\n",
    "\n",
    "P_FULL_A = np.array([0, 0, 0, 0, 0, 0.50, 0.10, 0.20, 0.20]).reshape((1, 9))\n",
    "P_FULL_B = np.array([0, 0, 0.60, 0, 0.40, 0, 0, 0, 0]).reshape((1, 9))\n",
    "\n",
    "plt.scatter(np.sqrt(52*port_var(P_FULL_A, S)),\n",
    "            (1.00 + port_ret(P_FULL_A, U))**52 - 1, c='red', label='PORTFOLIO A')\n",
    "\n",
    "plt.scatter(np.sqrt(52*port_var(P_FULL_B, S)),\n",
    "            (1.00 + port_ret(P_FULL_B, U))**52 - 1, c='purple', label='PORTFOLIO B')\n",
    "\n",
    "BLENDED = 0.30*P_FULL_A + 0.70*w_a_s\n",
    "plt.scatter(np.sqrt(52*port_var(BLENDED, S)),\n",
    "            (1.00 + port_ret(BLENDED, U))**52 - 1, c='orange', label='BLENDED')\n",
    "\n",
    "# BIL/EDV = 10/10\n",
    "# BND/BNDX = 10/20\n",
    "# GSY = 0\n",
    "# VGT/VHT = 10/10\n",
    "# VTI/VXUS = 20/10\n",
    "# Treasuries = 20 | Bonds = 30 | US Sector = 20 | US Stocks = 40 | Intl Stocks = 10\n",
    "SELECTED = np.array([0.10, 0.10, 0.20, 0.10, 0.00, 0.10, 0.10, 0.20, 0.10]).reshape((1, 9))\n",
    "plt.scatter(np.sqrt(52*port_var(SELECTED, S)),\n",
    "            (1.00 + port_ret(SELECTED, U))**52 - 1, c='black', label='SELECTED')\n",
    "\n",
    "plt.legend()\n",
    "plt.show()\n",
    "print(PORTFOLIO)\n",
    "print(w_a_s)"
   ]
  },
  {
   "cell_type": "code",
   "execution_count": 113,
   "metadata": {},
   "outputs": [
    {
     "data": {
      "text/plain": [
       "DeviceArray([[0.09804644, 0.        , 0.40355077, 0.05305839, 0.        ,\n",
       "              0.2953444 , 0.03      , 0.06      , 0.06      ]],            dtype=float32)"
      ]
     },
     "execution_count": 113,
     "metadata": {},
     "output_type": "execute_result"
    }
   ],
   "source": [
    "BLENDED"
   ]
  },
  {
   "cell_type": "code",
   "execution_count": 120,
   "metadata": {},
   "outputs": [
    {
     "data": {
      "text/plain": [
       "1.0"
      ]
     },
     "execution_count": 120,
     "metadata": {},
     "output_type": "execute_result"
    }
   ],
   "source": [
    "SELECTED.sum()"
   ]
  },
  {
   "cell_type": "markdown",
   "metadata": {},
   "source": [
    "## Selected & Blended Portfolio vs. Target Date Funds\n",
    "\n",
    "---"
   ]
  },
  {
   "cell_type": "code",
   "execution_count": 125,
   "metadata": {},
   "outputs": [
    {
     "data": {
      "text/plain": [
       "array(['VLXVX', 'VTTSX', 'VFFVX', 'VFIFX', 'VTIVX', 'VFORX'], dtype='<U5')"
      ]
     },
     "execution_count": 125,
     "metadata": {},
     "output_type": "execute_result"
    }
   ],
   "source": [
    "TARGET_DATE_FUNDS"
   ]
  },
  {
   "cell_type": "code",
   "execution_count": 134,
   "metadata": {},
   "outputs": [
    {
     "data": {
      "image/png": "[encoded data removed]",
      "text/plain": [
       "<Figure size 576x360 with 1 Axes>"
      ]
     },
     "metadata": {
      "needs_background": "light"
     },
     "output_type": "display_data"
    }
   ],
   "source": [
    "min_weeks = 52*7\n",
    "\n",
    "# Prices\n",
    "VTI = price_mat.VTI.iloc[-min_weeks:-1].values\n",
    "TD_2065 = price_mat.VLXVX.iloc[-min_weeks:-1].values\n",
    "TD_2055 = price_mat.VFFVX.iloc[-min_weeks:-1].values\n",
    "TD_2040 = price_mat.VFORX.iloc[-min_weeks:-1].values\n",
    "port_sel = jnp.matmul(X.values, SELECTED.transpose())\n",
    "port_blend = jnp.matmul(X.values, BLENDED.transpose())\n",
    "\n",
    "# Returns\n",
    "VTI = VTI[1:-1]/VTI[0:-2]\n",
    "TD_2065 = TD_2065[1:-1]/TD_2065[0:-2]\n",
    "TD_2055 = TD_2055[1:-1]/TD_2055[0:-2]\n",
    "TD_2040 = TD_2040[1:-1]/TD_2040[0:-2]\n",
    "port_sel = port_sel[1:-1]/port_sel[0:-2]\n",
    "port_blend = port_blend[1:-1]/port_blend[0:-2]\n",
    "\n",
    "TD_2065 = np.nan_to_num(TD_2065, nan=1.00)\n",
    "\n",
    "# Relative to $10K initial investment\n",
    "VTI = 10000.00 * np.cumprod(VTI[-100:])\n",
    "TD_2065 = 10000.00 * np.cumprod(TD_2065[-100:])\n",
    "TD_2055 = 10000.00 * np.cumprod(TD_2055[-100:])\n",
    "TD_2040 = 10000.00 * np.cumprod(TD_2040[-100:])\n",
    "port_sel = 10000.00 * np.cumprod(port_sel[-100:])\n",
    "port_blend = 10000.00 * np.cumprod(port_blend[-100:])\n",
    "\n",
    "# Plot\n",
    "fig = plt.figure()\n",
    "ax = fig.add_subplot(111)\n",
    "ax.plot(VTI, c='b', label='VTI')\n",
    "ax.plot(TD_2065, c='orange', label='TD_2065')\n",
    "ax.plot(TD_2055, c='teal', label='TD_2055')\n",
    "ax.plot(TD_2040, c='brown', label='TD_2040')\n",
    "ax.plot(port_sel, c='red', label='Selected')\n",
    "ax.plot(port_blend, c='black', label='Blended')\n",
    "plt.legend(loc=2)\n",
    "plt.show()"
   ]
  },
  {
   "cell_type": "code",
   "execution_count": 126,
   "metadata": {
    "jupyter": {
     "source_hidden": true
    }
   },
   "outputs": [],
   "source": [
    "# w_covid_obj1\n",
    "# w_covid_obj1_core\n",
    "assets = model_matrices(52*7, included_funds = [\"VLXVX\"])\n",
    "X = assets['data']\n",
    "H = assets['hprs']\n",
    "M, N = assets['dims']\n",
    "U = assets['mean']\n",
    "S = assets['cov']"
   ]
  }
 ],
 "metadata": {
  "kernelspec": {
   "display_name": "Python 3.8.2 64-bit",
   "language": "python",
   "name": "python38264bitebd592a79cf749eda17ae5222cd6eca2"
  },
  "language_info": {
   "codemirror_mode": {
    "name": "ipython",
    "version": 3
   },
   "file_extension": ".py",
   "mimetype": "text/x-python",
   "name": "python",
   "nbconvert_exporter": "python",
   "pygments_lexer": "ipython3",
   "version": "3.9.1"
  }
 },
 "nbformat": 4,
 "nbformat_minor": 4
}
